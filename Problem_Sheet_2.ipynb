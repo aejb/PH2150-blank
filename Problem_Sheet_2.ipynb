{
 "cells": [
  {
   "cell_type": "markdown",
   "metadata": {},
   "source": [
    "<div class=\"info\">\n",
    "PROBLEM SHEET 2: The aim of this problem sheet is to investigate using the list variable type.\n",
    "   \n",
    "Then we will create our first user defined functions\n"
   ]
  },
  {
   "cell_type": "markdown",
   "metadata": {},
   "source": [
    "# Problem Sheet 2, Ex1: Lists"
   ]
  },
  {
   "cell_type": "markdown",
   "metadata": {},
   "source": [
    "* Create a list containing the first twenty elements of the periodic table (using full name, not just symbol), **Note** do not use the word **list** as the variable name for your list as it is already in use as the function <span style=\"color:purple\">list()</span>.\n",
    "* Create a second list containing the next ten elements of the periodic table.\n",
    "* Add a comment to your code to explain the difference between adding (Concatenating) the lists together or using the <span style=\"color:purple\">append()</span> function to join the two lists.\n",
    "* Combine your two lists to make a third list containing 30 elements, Use the <span style=\"color:purple\">len()</span> function to confirm the new list has 30 elements.\n",
    "* Print the 23rd element in your third list.\n",
    "\n",
    "We will use this list in later exercises (once the object has been created in remains in the memory)"
   ]
  },
  {
   "cell_type": "code",
   "execution_count": 25,
   "metadata": {},
   "outputs": [],
   "source": [
    "# Enter your code for EX1 here:\n"
   ]
  },
  {
   "cell_type": "markdown",
   "metadata": {},
   "source": [
    "# Problem Sheet 2, Ex2: Lists and control structures"
   ]
  },
  {
   "cell_type": "markdown",
   "metadata": {},
   "source": [
    "* Write a program to create and print a new list containing the elements from your list (30 element list from Ex1) that begin with the letter **s**.\n",
    "* Write a program to create and print a new list containing the elements in your list (from Ex1) that consist of only 4 characters.\n"
   ]
  },
  {
   "cell_type": "code",
   "execution_count": 26,
   "metadata": {},
   "outputs": [],
   "source": [
    "# Enter your code for EX2 here:\n"
   ]
  },
  {
   "cell_type": "markdown",
   "metadata": {},
   "source": [
    "# Problem Sheet 2, EX3: User defined functions"
   ]
  },
  {
   "cell_type": "markdown",
   "metadata": {},
   "source": [
    "An arbitrary triangle can be described by the coordinates of its three vertices: $(x_1, y_1), (x_2, y_2), (x_3, y_3)$. \n",
    "\n",
    "The area of the triangle is given by the formula:\n",
    "$A = \\frac{1}{2}[x_2y_3 - x_3y_2 - x_1y_3 + x_3y_1 + x_1y_2 - x_2y_1]$\n",
    "\n",
    "* Write a **function** <span style=\"color:blue\">area(vertices)</span> that returns the area of a triangle whose vertices are specified by the argument *vertices*, which is a nested list of the vertex coordinates. For example, vertices can be [[0,0], [1,0], [0,2]] if the three corners of the triangle have coordinates (0, 0), (1, 0) and (0, 2). **Note**. this means a user defined function in python (i.e <span style=\"color:purple\">def</span> <span style=\"color:blue\">functionname</span>:).\n",
    "* Test the area function on a triangle with known area.\n",
    "* Add a docstring to your function area(vertices) to explain to the user what the arguments of the function need to be and what it is going to return."
   ]
  },
  {
   "cell_type": "code",
   "execution_count": 27,
   "metadata": {
    "cocalc": {
     "outputs": {
      "0": {
       "name": "input",
       "opts": {
        "password": false,
        "prompt": "Enter height"
       },
       "output_type": "stream",
       "value": "3"
      }
     }
    }
   },
   "outputs": [],
   "source": [
    "# Enter your answer for EX3 here:\n"
   ]
  },
  {
   "cell_type": "markdown",
   "metadata": {},
   "source": [
    "# Problem Sheet 2, Ex4: Functions operating on Lists"
   ]
  },
  {
   "cell_type": "markdown",
   "metadata": {},
   "source": [
    "Computing the length of a path. Some object is moving along a path in the plane. At $n$ points of time we have recorded the corresponding $(x, y)$ positions of the object:\n",
    "\\begin{equation}\n",
    "(x_0, y_0), (x_1, y_2), . . , (x_{n-1}, y_{n-1})\n",
    "\\end{equation}\n",
    "The total length $L$ of the path from ($x_0, y_0)~$ to $(x_{n-1}, y_{n-1})$ is the sum of all the individual line segments $((x_{i-1}, y_{i-1}) to (x_i, y_i),$  $i = 1, . . . , n-1:$\n",
    "\\begin{equation}\n",
    "L=\\sum_{i=1}^{n-1}\\sqrt{(x_i-x_{i-1})^2+(y_i-y_{i-1})^2}\n",
    "\\end{equation}\n",
    "* Make a **function** <span style=\"color:blue\">pathlength(x, y)</span> for computing $L$ according to the formula. The arguments $x$ and $y$ hold all the $x_0, . . . , x_{n-1}$ and $y_0, . . . , y_{n-1}$ coordinates, respectively.\n",
    "* Test the function on a triangular path with the four points (1, 1), (2, 1), (1, 2), and (1, 1).\n"
   ]
  },
  {
   "cell_type": "code",
   "execution_count": 28,
   "metadata": {},
   "outputs": [],
   "source": [
    "# Enter your code for EX4 here\n"
   ]
  },
  {
   "cell_type": "markdown",
   "metadata": {},
   "source": [
    "# Problem Sheet 2, Ex5: Approximate pi."
   ]
  },
  {
   "cell_type": "markdown",
   "metadata": {},
   "source": [
    "The value of $\\pi$ equals the circumference of a circle with radius $1/2$. Suppose we approximate the circumference by a polygon through $N+1$ points on the circle. The length of this polygon can be found using your <span style=\"color:blue\">pathlength(x, y)</span> function from PS2 Ex4.\n",
    "* Compute $N+1$ points $(x_i, y_i)$ along a circle with radius $1/2$ according to the formula:\n",
    "\n",
    "$x_i=\\frac{1}{2}\\cos(2\\pi i/N),_i=\\frac{1}{2}\\sin(2\\pi i/N),i=0,...,N.$\n",
    "\n",
    "* Call your pathlength function and write out the error in the approximation of $pi$ for\n",
    "$N = 2^{k}; k = 2; 3; ...; 10:$"
   ]
  },
  {
   "cell_type": "code",
   "execution_count": 29,
   "metadata": {},
   "outputs": [],
   "source": [
    "# Enter your code for Ex5 here:"
   ]
  },
  {
   "cell_type": "markdown",
   "metadata": {
    "pycharm": {
     "name": "#%% md\n"
    }
   },
   "source": [
    "### Next Step\n",
    "\n",
    "Save your code (ydrive, usb, dropbox etc) then either return to the [Start Menu](PH2150_Start_here.ipynb), or move on to [Problem Sheet 3](Problem_Sheet_3.ipynb)\n"
   ]
  }
 ],
 "metadata": {
  "kernelspec": {
   "display_name": "Python 3",
   "language": "python",
   "name": "python3"
  },
  "language_info": {
   "codemirror_mode": {
    "name": "ipython",
    "version": 3
   },
   "file_extension": ".py",
   "mimetype": "text/x-python",
   "name": "python",
   "nbconvert_exporter": "python",
   "pygments_lexer": "ipython3",
   "version": "3.8.5"
  }
 },
 "nbformat": 4,
 "nbformat_minor": 4
}