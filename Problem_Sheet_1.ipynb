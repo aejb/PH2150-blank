{
 "cells": [
  {
   "cell_type": "markdown",
   "metadata": {},
   "source": [
    "PROBLEM SHEET 1: The aim of this first problem sheet is to introduce you to the environment in which we will be running Python during the post exam period. The computers in the teaching lab have several version of Python installed and as we will see it can be used in different ways. When we return to onsite lab sessions we will be using the Anaconda installation, with a Python 3.x version. However for now we will use the CoCalc.com cloud based servers accessed through a web browser.\n",
    "\n"
   ]
  },
  {
   "cell_type": "markdown",
   "metadata": {},
   "source": [
    "# Problem Sheet 1, Ex1: Creating new cells in the Jupyter notebook"
   ]
  },
  {
   "cell_type": "markdown",
   "metadata": {},
   "source": [
    "* Create a new **Code** cell below, inside the **code** cell create a variable called *weekday* and set it's value to the *string* that is the name of the day when you type it (i.e Monday)\n",
    "* Create a new **Markdown** cell below, inside the **Markdown** cell write your name and candidate number in bold, make a indented list (i.e. like this list of questions, double clicking on a box shows you the code) of your three favourite films and use $\\LaTeX$ math mode to write down Einstein's equation that shows that energy and mass are interchangeable."
   ]
  },
  {
   "cell_type": "markdown",
   "metadata": {},
   "source": [
    "# Problem Sheet 1, Ex2: Using Python as a calculator"
   ]
  },
  {
   "cell_type": "markdown",
   "metadata": {},
   "source": [
    "In the code window below (marked enter your answer for EX2 here), calculate and print to screen\n",
    "\n",
    "* The result of 4/7 where 4 and 7 are integer numbers\n",
    "* The square root of nineteen\n",
    "* The factorial of 19\n",
    "* The sine of 37 degrees"
   ]
  },
  {
   "cell_type": "code",
   "execution_count": 5,
   "metadata": {},
   "outputs": [
    {
     "data": {
      "text/plain": "6.666666666666667"
     },
     "execution_count": 5,
     "metadata": {},
     "output_type": "execute_result"
    }
   ],
   "source": [
    "# Using the hash symbol allows you to include comments in your code which will not be interpreted by python\n",
    "# If I type a list of calculations, such as:\n",
    "3+4\n",
    "5*6\n",
    "22/3.3\n",
    "#and then run the code cell (either by holding shift+enter or the run button)\n"
   ]
  },
  {
   "cell_type": "code",
   "execution_count": 6,
   "metadata": {},
   "outputs": [
    {
     "name": "stdout",
     "output_type": "stream",
     "text": [
      "7\n",
      "30\n",
      "6.666666666666667\n"
     ]
    }
   ],
   "source": [
    "#Then I only see the last output, I did not tell Python to do anything with the calculations, if however I use the print() function:\n",
    "print(3+4)\n",
    "print(5*6)\n",
    "print(22/3.3) #Also notice that the Jupyter notebooks has automatically change the colour for comments and functions etc"
   ]
  },
  {
   "cell_type": "code",
   "execution_count": 7,
   "metadata": {},
   "outputs": [
    {
     "name": "stdout",
     "output_type": "stream",
     "text": [
      "Help on built-in function print in module builtins:\n",
      "\n",
      "print(...)\n",
      "    print(value, ..., sep=' ', end='\\n', file=sys.stdout, flush=False)\n",
      "    \n",
      "    Prints the values to a stream, or to sys.stdout by default.\n",
      "    Optional keyword arguments:\n",
      "    file:  a file-like object (stream); defaults to the current sys.stdout.\n",
      "    sep:   string inserted between values, default a space.\n",
      "    end:   string appended after the last value, default a newline.\n",
      "    flush: whether to forcibly flush the stream.\n",
      "\n"
     ]
    }
   ],
   "source": [
    "# Then I see that all the values have been printed to the screen, I can learn more about how print() works by using the help() function, with print as the argument (the value inside the brackets)\n",
    "help(print) #this displays information about the function called it's docstring"
   ]
  },
  {
   "cell_type": "code",
   "execution_count": 8,
   "metadata": {},
   "outputs": [
    {
     "ename": "NameError",
     "evalue": "name 'sin' is not defined",
     "output_type": "error",
     "traceback": [
      "\u001B[0;31m---------------------------------------------------------------------------\u001B[0m",
      "\u001B[0;31mNameError\u001B[0m                                 Traceback (most recent call last)",
      "\u001B[0;32m<ipython-input-8-70537ae76027>\u001B[0m in \u001B[0;36m<module>\u001B[0;34m\u001B[0m\n\u001B[1;32m      1\u001B[0m \u001B[0;31m# Note that some of these basic maths operations are not available in the standard python library if you try\u001B[0m\u001B[0;34m\u001B[0m\u001B[0;34m\u001B[0m\u001B[0;34m\u001B[0m\u001B[0m\n\u001B[0;32m----> 2\u001B[0;31m \u001B[0msin\u001B[0m\u001B[0;34m(\u001B[0m\u001B[0;36m10\u001B[0m\u001B[0;34m)\u001B[0m\u001B[0;34m\u001B[0m\u001B[0;34m\u001B[0m\u001B[0m\n\u001B[0m\u001B[1;32m      3\u001B[0m \u001B[0;31m# You will recieve a NameError: name 'sin'is not defined\u001B[0m\u001B[0;34m\u001B[0m\u001B[0;34m\u001B[0m\u001B[0;34m\u001B[0m\u001B[0m\n\u001B[1;32m      4\u001B[0m \u001B[0;31m# The functions can be found in the math module, to access this you will first need to import the functions into your code (i.e. import math) loads the names, dir(math) will return a list of the names of all of the functions in the math module,\u001B[0m\u001B[0;34m\u001B[0m\u001B[0;34m\u001B[0m\u001B[0;34m\u001B[0m\u001B[0m\n\u001B[1;32m      5\u001B[0m \u001B[0;31m# math.funcname() will let you use function (i.e to find the log of 10, you type math.log(10), this tells python to use the log function from the math module)\u001B[0m\u001B[0;34m\u001B[0m\u001B[0;34m\u001B[0m\u001B[0;34m\u001B[0m\u001B[0m\n",
      "\u001B[0;31mNameError\u001B[0m: name 'sin' is not defined"
     ]
    }
   ],
   "source": [
    "# Note that some of these basic maths operations are not available in the standard python library if you try\n",
    "sin(10)\n",
    "# You will recieve a NameError: name 'sin'is not defined\n",
    "# The functions can be found in the math module, to access this you will first need to import the functions into your code (i.e. import math) loads the names, dir(math) will return a list of the names of all of the functions in the math module,\n",
    "# math.funcname() will let you use function (i.e to find the log of 10, you type math.log(10), this tells python to use the log function from the math module)\n",
    "# Use the help() function to learn what the function in the module do."
   ]
  },
  {
   "cell_type": "code",
   "execution_count": null,
   "metadata": {},
   "outputs": [],
   "source": [
    "# Enter your answer for EX2 here:\n"
   ]
  },
  {
   "cell_type": "markdown",
   "metadata": {},
   "source": [
    "# Problem Sheet 1, EX3: Requesting inputs from users and returning the output after evaluation:"
   ]
  },
  {
   "cell_type": "markdown",
   "metadata": {},
   "source": [
    "* A ball is dropped from a tower of height $h$, built on level ground. The ball has initial velocity zero and accelerates downwards under gravity.\n",
    "* Write a program that asks the user to enter the height in meters of the tower and a time interval $t$ in seconds (using the input function), then prints on the screen the height of the ball from the ground at time $t$ after it is dropped, ignoring air resistance."
   ]
  },
  {
   "cell_type": "code",
   "execution_count": null,
   "metadata": {
    "cocalc": {
     "outputs": {
      "0": {
       "name": "input",
       "opts": {
        "password": false,
        "prompt": "Enter height"
       },
       "output_type": "stream",
       "value": "3"
      }
     }
    }
   },
   "outputs": [],
   "source": [
    "# Enter your answer for EX3 here:\n"
   ]
  },
  {
   "cell_type": "markdown",
   "metadata": {},
   "source": [
    "# Problem Sheet 1, Ex4: A question to practice requesting inputs from users and returning the output after evaluation:"
   ]
  },
  {
   "cell_type": "markdown",
   "metadata": {},
   "source": [
    "\n",
    "A satellite is to be launched into a circular orbit around the Earth so that it orbits the planet once every $T$ seconds.\n",
    "\n",
    "*  Show (in the Markdown cell) that the altitude $h$ above the Earths surface that the satellite must have is $h = (GMT^2/4\\pi^2)^{1/3} -R$, where $G = 6.67$x$10^{-11}\\,\\mathrm{m}^3\\mathrm{kg}^{-1}\\mathrm{s}^{-2}$ is Newtons gravitational constant, $M = 5.97$x$10^{24}\\,\\mathrm{kg}$ is the mass of the Earth, and $R = 6371\\,\\mathrm{km}$ is its radius. Before writing a program it is important that you understand what your variables are and what you want the algorithm to do.\n",
    "* Write a program that asks the user to enter the desired value of $T$ and then calculates and prints out the correct altitude in meters.\n",
    "* Use your program to calculate the altitudes of satellites that orbit the Earth once a day (so-called geosynchronous orbit), once every 90 minutes, and once every 45 minutes.\n",
    "* What do you conclude from the last of these calculations?\n",
    "\n"
   ]
  },
  {
   "cell_type": "markdown",
   "metadata": {},
   "source": [
    "Write your answer to the first part here (**Hint:** Remind yourself of Kepler's Third Law)\n"
   ]
  },
  {
   "cell_type": "code",
   "execution_count": null,
   "metadata": {},
   "outputs": [],
   "source": [
    "import math\n",
    "# Enter your code for EX4 here (write a comment for the last part at the end of the code)\n"
   ]
  },
  {
   "cell_type": "markdown",
   "metadata": {},
   "source": [
    "# Problem Sheet 1, Ex5: Writing to a file."
   ]
  },
  {
   "cell_type": "markdown",
   "metadata": {},
   "source": [
    "* Using the write() method described in the notes, create a file containing the first law of thermodynamic:\n",
    " \n",
    "``In all cases in which work is produced by the agency of heat, a quantity of heat is consumed which\n",
    "is proportional to the work done; and conversely, by the expenditure of an equal quantity of work an equal quantity of heat is produced.''\n",
    "\n",
    "* Write a program to read out the sixth word of the string and then print the whole statement.\n",
    "\n",
    "* Print (to screen) a list of the functions that can operate on the string, \\emph{hint type the string name in the interpreter window followed by a '.' and then press tab (auto complete) to see available functions}"
   ]
  },
  {
   "cell_type": "code",
   "execution_count": null,
   "metadata": {},
   "outputs": [],
   "source": [
    "# Type your code for Ex4 here, I have cut a bit from the notes to remind you:\n",
    "# Open a file\n",
    "fo = open(\"1lt.txt\", \"w\" ) # makes an file object fo (could have assigned anyname here) which is the open file foo.txt, if it does not exist it will make it\n"
   ]
  },
  {
   "cell_type": "markdown",
   "metadata": {},
   "source": [
    "# Problem Sheet 1, Ex6: Saving your work"
   ]
  },
  {
   "cell_type": "markdown",
   "metadata": {},
   "source": [
    "* We will be marking Problem Sheet 1 in the first week of the Autumn term, and files will be submitted via turnitin on the Moodle page, you should still have access to CoCalc in the Autumn but to ensure that you have access to the work that you have done download the code and save it on your favourite storage mechanism (I suggest your university y-drive, dropbox, and usb stick) each year someone always loses their work (laptops died or lost/stolen etc)"
   ]
  },
  {
   "cell_type": "markdown",
   "metadata": {
    "pycharm": {
     "name": "#%% md\n"
    }
   },
   "source": [
    "### Next Step\n",
    "\n",
    "Either return to the [Start Menu](PH2150_Start_here.ipynb), or move on to [Problem Sheet 2](Problem_Sheet_2.ipynb)\n"
   ]
  }
 ],
 "metadata": {
  "kernelspec": {
   "display_name": "Python 3",
   "language": "python",
   "name": "python3"
  },
  "language_info": {
   "codemirror_mode": {
    "name": "ipython",
    "version": 3
   },
   "file_extension": ".py",
   "mimetype": "text/x-python",
   "name": "python",
   "nbconvert_exporter": "python",
   "pygments_lexer": "ipython3",
   "version": "3.8.5"
  }
 },
 "nbformat": 4,
 "nbformat_minor": 4
}