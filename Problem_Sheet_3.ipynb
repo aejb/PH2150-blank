{
 "cells": [
  {
   "cell_type": "markdown",
   "metadata": {},
   "source": [
    "<div class=\"info\">\n",
    "PROBLEM SHEET 3: In this problem sheet we are introducing arrays as a python variable type. We will be using the numpy array extensively throughout PH2150 so it is important to learn how to create and operate on arrays.\n"
   ]
  },
  {
   "cell_type": "code",
   "execution_count": 1,
   "metadata": {},
   "outputs": [
    {
     "ename": "ModuleNotFoundError",
     "evalue": "No module named 'numpy'",
     "output_type": "error",
     "traceback": [
      "\u001B[0;31m---------------------------------------------------------------------------\u001B[0m",
      "\u001B[0;31mModuleNotFoundError\u001B[0m                       Traceback (most recent call last)",
      "\u001B[0;32m<ipython-input-1-8c3df4fcdd70>\u001B[0m in \u001B[0;36m<module>\u001B[0;34m\u001B[0m\n\u001B[1;32m      1\u001B[0m \u001B[0;31m# Why use arrays rather than lists, in this test I make an array and a list with one million points:\u001B[0m\u001B[0;34m\u001B[0m\u001B[0;34m\u001B[0m\u001B[0;34m\u001B[0m\u001B[0m\n\u001B[1;32m      2\u001B[0m \u001B[0;34m\u001B[0m\u001B[0m\n\u001B[0;32m----> 3\u001B[0;31m \u001B[0;32mimport\u001B[0m \u001B[0mnumpy\u001B[0m \u001B[0;32mas\u001B[0m \u001B[0mnp\u001B[0m \u001B[0;31m# First I need to import the numpy package (here using the alias np to reduce typing later)\u001B[0m\u001B[0;34m\u001B[0m\u001B[0;34m\u001B[0m\u001B[0m\n\u001B[0m\u001B[1;32m      4\u001B[0m \u001B[0mMyArray\u001B[0m\u001B[0;34m=\u001B[0m\u001B[0mnp\u001B[0m\u001B[0;34m.\u001B[0m\u001B[0mlinspace\u001B[0m\u001B[0;34m(\u001B[0m\u001B[0;36m1\u001B[0m\u001B[0;34m,\u001B[0m\u001B[0;36m1000000\u001B[0m\u001B[0;34m,\u001B[0m\u001B[0;36m1000000\u001B[0m\u001B[0;34m)\u001B[0m \u001B[0;31m# making an array using the linspace() function.\u001B[0m\u001B[0;34m\u001B[0m\u001B[0;34m\u001B[0m\u001B[0m\n\u001B[1;32m      5\u001B[0m \u001B[0mMyList\u001B[0m\u001B[0;34m=\u001B[0m\u001B[0;34m[\u001B[0m\u001B[0;34m]\u001B[0m \u001B[0;31m#Starting with a blank list\u001B[0m\u001B[0;34m\u001B[0m\u001B[0;34m\u001B[0m\u001B[0m\n",
      "\u001B[0;31mModuleNotFoundError\u001B[0m: No module named 'numpy'"
     ]
    }
   ],
   "source": [
    "# Why use arrays rather than lists, in this test I make an array and a list with one million points:\n",
    "\n",
    "import numpy as np # First I need to import the numpy package (here using the alias np to reduce typing later)\n",
    "MyArray=np.linspace(1,1000000,1000000) # making an array using the linspace() function.\n",
    "MyList=[] #Starting with a blank list\n",
    "for i in range(1000000): # This loop will generate the list of a million points\n",
    "    MyList.append(i)\n",
    "print('The array has',len(MyArray),'points') #checking the length of my array\n",
    "print('The list has',len(MyList),'points')#checking the length of my list\n"
   ]
  },
  {
   "cell_type": "code",
   "execution_count": null,
   "metadata": {},
   "outputs": [],
   "source": [
    "#Here I am going to add 1 to every element in the list\n",
    "for i in range(1000000):\n",
    "    MyList[i]=MyList[i]+1\n",
    "# After running the CoCalc cell shows the execute time in the top right corner"
   ]
  },
  {
   "cell_type": "code",
   "execution_count": null,
   "metadata": {},
   "outputs": [],
   "source": [
    "#With arrays I do not need a control structure adding 1 acts universally on all elements\n",
    "MyArray=MyArray+1\n",
    "\n",
    "#comparing the times this should be much faster, aslo the code is simpler, and more importanly as we will see there are thousands of functions that can operate in arrays to perform the mathematical operations that we need for physics data analysis."
   ]
  },
  {
   "cell_type": "markdown",
   "metadata": {},
   "source": [
    "# Problem Sheet 3, Ex1: Creating Arrays"
   ]
  },
  {
   "cell_type": "markdown",
   "metadata": {},
   "source": [
    "* Write code to create and print the following arrays:\n",
    "\n",
    "a) A two dimensional floating point array with 4 rows and 4 columns all filled with 0.0, call this array **EX1a**.\n",
    "\n",
    "b) A two dimensional floating point array with 4 rows and 4 columns filled with the range of numbers 1-16, call this array **EX1b**.\n",
    "\n",
    "c) A two dimensional floating point array with 4 rows and 4 columns filled with random numbers, call this array **EX1c**.\n",
    "\n",
    "d) Create a two dimensional array with 4 rows and 4 columns, using linspace such that the first row contains evenly spaced numbers between 1 and 17, the second row contains evenly spaced numbers between 1 and 2, the third row contains evenly spaced numbers between 100 and 200, the fourth row should be equal to the 3rd row rounded to two decimal places. Call this array **EX1d**.\n",
    "\n",
    "\n",
    "The next exercises are to demonstrate how basic arithmetic works on arrays:\n",
    "\n",
    "\n",
    "e) Add **EX1a** to **EX1b** to **EX1c**, call the answer **EX1e**, print() the element that is 4 across on the third row.\n",
    "\n",
    "f) Make an array  **EX1f** that is **EX1b** multiplied by itself, take the dot product of **EX1b** with itself and calculate the difference from **EX1f**, comment in the code on what these two operations are doing.\n",
    "\n",
    "g) Make an array **EX1g** where each element equals  $\\sin(element)$ for each element of **EX1c**.\n",
    "\n",
    "h) Transpose the elements of **EX1c**.\n",
    "\n",
    "i) Return the diagonal() of **EX1c**.\n",
    "\n",
    "j) Create a (8,4)array by stacking **EX1a** and **EX1b**.\n",
    "\n",
    "k) Create a (4,8) array by stacking **EX1a** and **EX1c**."
   ]
  },
  {
   "cell_type": "code",
   "execution_count": null,
   "metadata": {},
   "outputs": [],
   "source": [
    "# Enter your code for EX1 here:\n"
   ]
  },
  {
   "cell_type": "markdown",
   "metadata": {},
   "source": [
    "# Problem Sheet 3, Ex2: Plotting with Arrays"
   ]
  },
  {
   "cell_type": "markdown",
   "metadata": {},
   "source": [
    "The file *stars.dat* included in the package of files for you to upload into your project contains a catalog of temperatures and magnitudes for 7860 nearby stars.\n",
    "* Create an array using this data, use the NumPy function np.loadtxt() to read the data from the file.\n",
    "* Then plot a *Hertzsprung-Russell* diagram using this catalog, look at online examples of HR diagrams to see the conventions of how the axes should be displayed etc.\n",
    "* Add axis labels, titles etc to your plot.\n"
   ]
  },
  {
   "cell_type": "code",
   "execution_count": null,
   "metadata": {},
   "outputs": [],
   "source": [
    "# Enter your code for EX2 here:\n",
    "#np.shape(your_array_name) will return the shape of your array"
   ]
  },
  {
   "cell_type": "markdown",
   "metadata": {},
   "source": [
    "# Problem Sheet 3, EX3: Advanced Plotting with Arrays"
   ]
  },
  {
   "cell_type": "markdown",
   "metadata": {},
   "source": [
    "The file *stm.dat* contains a grid of values from a scanning tunneling microscope measurement of the [111] surface of silicon. The STM is a device that measures the shape of a surface at the atomic level by tracking a sharp tip over the surface and measuring quantum tunneling current as a function of position. The end result is a grid of values that represent the height of the surface. \n",
    "* Use imshow() (from the package matplotlib.pyplot) to create a density plot to represent the surface of the silicon, explore the options (colour maps) to create a clear image of the surface."
   ]
  },
  {
   "cell_type": "code",
   "execution_count": null,
   "metadata": {
    "cocalc": {
     "outputs": {
      "0": {
       "name": "input",
       "opts": {
        "password": false,
        "prompt": "Enter height"
       },
       "output_type": "stream",
       "value": "3"
      }
     }
    }
   },
   "outputs": [],
   "source": [
    "# Enter your answer for EX3 here:\n"
   ]
  },
  {
   "cell_type": "markdown",
   "metadata": {
    "pycharm": {
     "name": "#%% md\n"
    }
   },
   "source": [
    "### Next Step\n",
    "\n",
    "Save your code (ydrive, usb, dropbox etc) and then you have completed the post exam python, return to the [Start Menu](PH2150_Start_here.ipynb) to continue exploring the notes."
   ]
  }
 ],
 "metadata": {
  "kernelspec": {
   "name": "pycharm-267b0b7c",
   "language": "python",
   "display_name": "PyCharm (problem_sets)"
  },
  "language_info": {
   "codemirror_mode": {
    "name": "ipython",
    "version": 3
   },
   "file_extension": ".py",
   "mimetype": "text/x-python",
   "name": "python",
   "nbconvert_exporter": "python",
   "pygments_lexer": "ipython3",
   "version": "3.8.5"
  }
 },
 "nbformat": 4,
 "nbformat_minor": 4
}