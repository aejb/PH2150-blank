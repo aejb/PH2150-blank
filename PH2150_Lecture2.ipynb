{
 "cells": [
  {
   "cell_type": "code",
   "execution_count": 1,
   "metadata": {
    "slideshow": {
     "slide_type": "skip"
    }
   },
   "outputs": [],
   "source": [
    "from __future__ import print_function\n",
    "import matplotlib\n",
    "import numpy as np\n",
    "import matplotlib.pyplot as plt\n",
    "%matplotlib inline  "
   ]
  },
  {
   "cell_type": "markdown",
   "metadata": {
    "slideshow": {
     "slide_type": "slide"
    }
   },
   "source": [
    "## PH2150-  Scientific Computing and Employabilty Skills\n",
    "\n",
    "### Chapter 2: Variables\n",
    "\n",
    "### Dr. Andrew Casey  (a.casey@rhul.ac.uk, W054)\n",
    "    \n",
    "In this chapter we will introduce some of the basic syntax of the python language, a more comprehensive introduction to the basics can be found at https://docs.python.org/3/tutorial/\n",
    "    \n",
    "    \n",
    "### Chapter Contents\n",
    "\n",
    "* Comments\n",
    "* Operators\n",
    "* Variables\n",
    "    * Numbers\n",
    "    * Strings\n",
    "    * List\n",
    "    * Tuple\n",
    "    * Dictionary\n",
    "* Inputs and Outputs\n",
    "    * print()\n",
    "    * input()\n",
    "* Opening and Closing Files\n",
    "    * open()\n",
    "    * write()\n",
    "    * read()\n",
    "    \n",
    "\n"
   ]
  },
  {
   "cell_type": "markdown",
   "metadata": {},
   "source": [
    "## Comments\n",
    "The *Python* interpreter ignores the contents of a line after the # symbol, this allows the programmer to add useful comments to remind themselves or explain to others what particular lines of code are supposed to be doing. It is good practice to include comments at the beginning of your programs to explain what the program does, attribute the author and record details of date and version of the program. This may seem unnecessary for the 3-line codes that you will be writing at the beginning of the course but it is a good habit to form. The comment can appear at any point in the line, after encountering the # *Python* moves onto interpreting the next line. If you want a comment to span multiple lines you can either start each line with a #, or begin the block of commenting with \"\"\" ....add multi-line comments and then end with \"\"\", python will skip everything between (this type of comment is used for the special case of the function docstring describrd in chapter 3)"
   ]
  },
  {
   "cell_type": "code",
   "execution_count": 0,
   "metadata": {},
   "outputs": [],
   "source": [
    "# a single line comment, does not have to be a the start of a line\n",
    "\n",
    "\"\"\"A multi-line comment,\n",
    "\n",
    "\n",
    "\n",
    "Python will skip everything between the triple quotation marks\"\"\""
   ]
  },
  {
   "cell_type": "markdown",
   "metadata": {
    "slideshow": {
     "slide_type": "slide"
    }
   },
   "source": [
    "## Operators\n",
    "In the expression 1 + 2 is equal to 3, 1 and 2 are called operands and + is the operator. *Python* e supports the following types of operators:\n",
    "* Arithmetic Operators\n",
    "* Comparison Operators\n",
    "* Assignment Operators\n",
    "* Logical Operators\n",
    "* Conditional Operators\n",
    "\n",
    "Below the most common operators are defined, the **arithmetic** operators are represented by:\n",
    "\n",
    "| Operator | Description |\n",
    "| --- | --- |\n",
    "|$+$ | Addition - Adds values on either side of the operator.|\n",
    "|$-$ | Subtraction - Subtracts right hand operand from left hand operand.|\n",
    "|$*$ | Multiplication - Multiplies values on either side of the operator.|\n",
    "|/ | Division - Divides left hand operand by right hand operand.|\n",
    "|% | Modulus - Divides left hand operand by right hand operand and returns remainder.|\n",
    "|// | Floor Division - The division of operands where the result is the quotient in which the digits after the decimal point are removed.|\n",
    "|** | Exponent - Performs exponential (power) calculation on operators.|\n",
    "\n",
    "Using these basic operators the *Python* shell can be used as a calculator (with traceback and auto-complete functionality), however this would be a fairly limited calculator. Typing <span style=\"color:purple\">dir()</span> in intpreter lists all the named modules, functions variables etc, that are currently loaded, these built-in functions can be expanded by importing modules, the following example introduces how you can access the <span style=\"color:blue\">math</span> module (more on *modules* in the next lecture. Using this as a starting point *Python* can be used as a powerful scientific calculator.\n"
   ]
  },
  {
   "cell_type": "code",
   "execution_count": 5,
   "metadata": {},
   "outputs": [
    {
     "name": "stdout",
     "output_type": "stream",
     "text": [
      "['__doc__', '__loader__', '__name__', '__package__', '__spec__', 'acos', 'acosh', 'asin', 'asinh', 'atan', 'atan2', 'atanh', 'ceil', 'copysign', 'cos', 'cosh', 'degrees', 'e', 'erf', 'erfc', 'exp', 'expm1', 'fabs', 'factorial', 'floor', 'fmod', 'frexp', 'fsum', 'gamma', 'gcd', 'hypot', 'inf', 'isclose', 'isfinite', 'isinf', 'isnan', 'ldexp', 'lgamma', 'log', 'log10', 'log1p', 'log2', 'modf', 'nan', 'pi', 'pow', 'radians', 'sin', 'sinh', 'sqrt', 'tan', 'tanh', 'tau', 'trunc']\n",
      "x= 2.23606797749979\n",
      "Help on built-in function sqrt in module math:\n",
      "\n",
      "sqrt(...)\n",
      "    sqrt(x)\n",
      "    \n",
      "    Return the square root of x.\n",
      "\n"
     ]
    }
   ],
   "source": [
    "# List the functions named within the module: math\n",
    "import math\n",
    "print (dir(math))\n",
    "# after the math module has been imported into the Python session you can use its functions\n",
    "x= math.sqrt(5.0)\n",
    "print('x=',x) \n",
    "help(math.sqrt) # returns help on the function sqrt in module math\n",
    "#explore some of the othe functions contained in the math module"
   ]
  },
  {
   "cell_type": "markdown",
   "metadata": {},
   "source": [
    "### Comparison Operators\n",
    "\n",
    "| Operator | Description |\n",
    "| --- | --- |\n",
    "|== | Checks if the value of two operands are equal or not, if yes then condition becomes true.|\n",
    "|    !=  |Checks if the value of two operands are equal or not, if values are not equal then condition becomes true.|\n",
    "|    $<>$ |Checks if the value of two operands are equal or not, if values are not equal then condition becomes true.|\n",
    "|   $>$ |Checks if the value of left operand is greater than the value of right operand, if yes then condition becomes true.|\n",
    "|    $<$| Checks if the value of left operand is less than the value of right operand, if yes then condition becomes true.|\n",
    "|    $>$= | Checks if the value of left operand is greater than or equal to the value of right operand, if yes then condition becomes true.|\n",
    "|    $<$= | Checks if the value of left operand is less than or equal to the value of right operand, if yes then condition becomes true.|\n",
    "\n",
    "\n",
    "### Assingment Operators\n",
    "\n",
    "| Operator | Description |\n",
    "| --- | --- |\n",
    "|    = | Simple assignment operator, Assigns values from right side operands to left side operand |\n",
    "|    +=  | Add AND assignment operator, It adds right operand to the left operand and assign the result to left operand|\n",
    "|    -= | Subtract AND assignment operator, It subtracts right operand from the left operand and assign the result to left operand|\n",
    "|    *= | Multiply AND assignment operator, It multiplies right operand with the left operand and assign the result to left operand|\n",
    "|    /= | Divide AND assignment operator, It divides left operand with the right operand and assign the result to left operand|\n",
    "|    \\%= | Modulus AND assignment operator, It takes modulus using two operands and assign the result to left operand|\n",
    "|    **= | Exponent AND assignment operator, Performs exponential (power) calculation on operators and assign value to the left operand|\n",
    "|    //= | Floor Division and assigns a value, Performs floor division on operators and assign value to the left operand|\n",
    "\n",
    "### Logical Operators\n",
    "\n",
    "| Operator | Description |\n",
    "| --- | --- |\n",
    "|    and | Called Logical AND operator. If both the operands are true then then condition becomes true|\n",
    "|    or | Called Logical OR Operator. If any of the two operands are non zero then then condition becomes true|\n",
    "|    not | Called Logical NOT Operator. Use to reverses the logical state of its operand. If a condition is true then Logical NOT operator will make false|\n"
   ]
  },
  {
   "cell_type": "markdown",
   "metadata": {
    "slideshow": {
     "slide_type": "slide"
    }
   },
   "source": [
    "## Variables in computing.\n",
    "\n",
    "A variable in computer programming is a storage location associated with a symbolic name that contains a known or unknown value. In Python the variable is assigned a value by using the = symbol. \n",
    "### = is the assignment operator\n",
    "\n",
    "Variables come in many types, and the way that your code interacts with the variable dependends on the data type.\n",
    "The following are common variables types that we will encounter:\n",
    "\n",
    "* Numbers\n",
    "* Strings\n",
    "* List\n",
    "* Tuple\n",
    "* Dictionary\n",
    "* Boolean\n",
    "* Object\n",
    "* None ( A special variable type, that means non existent, not known or empty)\n",
    "* Array \n"
   ]
  },
  {
   "cell_type": "markdown",
   "metadata": {
    "slideshow": {
     "slide_type": "slide"
    }
   },
   "source": [
    "## Variable Names\n",
    "Variable names in *Python* can contain alphanumerical characters a-z, A-Z, 0-9 and some special characters such as _.\n",
    "Normal variable names must start with a letter. By convention, variable names start with a lower-case letter.\n",
    "### *Python* keywords that cannot be used as variable names:\n",
    "\n",
    "\n",
    "    and, as, assert, break, class, continue, def, del, elif, else, except, \n",
    "    exec, finally, for, from, global, if, import, in, is, lambda, not, or,\n",
    "    pass, print, raise, return, try, while, with, yield\n",
    "\n",
    "**Note:** Be aware of the keyword `lambda`, which could easily be a natural choice of variable name in a scientific program. But being a keyword, it cannot be used as a variable name.\n"
   ]
  },
  {
   "cell_type": "markdown",
   "metadata": {
    "slideshow": {
     "slide_type": "slide"
    }
   },
   "source": [
    "## Numbers in *Python*\n",
    "\n",
    "*Python* has four basic numerical types.\n",
    "\n",
    "* Floating point numbers (floats)\n",
    "* Integers (less than 32-bit), and Long Integer (greater than 32-bit)\n",
    "* Complex numbers"
   ]
  },
  {
   "cell_type": "code",
   "execution_count": 2,
   "metadata": {
    "slideshow": {
     "slide_type": "slide"
    }
   },
   "outputs": [
    {
     "name": "stdout",
     "output_type": "stream",
     "text": [
      "value= 4 <class 'int'>\n"
     ]
    },
    {
     "data": {
      "text/plain": [
       "int"
      ]
     },
     "execution_count": 2,
     "metadata": {},
     "output_type": "execute_result"
    }
   ],
   "source": [
    "x=4 # assigns the value '4' to the variable 'x'\n",
    "print('value=',x,type(x)) # print the string \"value=\", x and identify varaible type\n",
    "type(x)"
   ]
  },
  {
   "cell_type": "code",
   "execution_count": 3,
   "metadata": {
    "slideshow": {
     "slide_type": "fragment"
    }
   },
   "outputs": [
    {
     "name": "stdout",
     "output_type": "stream",
     "text": [
      "value= (4+2j) <class 'complex'>\n",
      "4.0 2.0\n"
     ]
    }
   ],
   "source": [
    "xx=4+2j\n",
    "print('value=',xx,type (xx))\n",
    "print(xx.real, xx.imag)"
   ]
  },
  {
   "cell_type": "code",
   "execution_count": 4,
   "metadata": {
    "slideshow": {
     "slide_type": "fragment"
    }
   },
   "outputs": [
    {
     "name": "stdout",
     "output_type": "stream",
     "text": [
      "value= 4.0\n",
      "['__abs__', '__add__', '__bool__', '__class__', '__delattr__', '__dir__', '__divmod__', '__doc__', '__eq__', '__float__', '__floordiv__', '__format__', '__ge__', '__getattribute__', '__getformat__', '__getnewargs__', '__gt__', '__hash__', '__init__', '__init_subclass__', '__int__', '__le__', '__lt__', '__mod__', '__mul__', '__ne__', '__neg__', '__new__', '__pos__', '__pow__', '__radd__', '__rdivmod__', '__reduce__', '__reduce_ex__', '__repr__', '__rfloordiv__', '__rmod__', '__rmul__', '__round__', '__rpow__', '__rsub__', '__rtruediv__', '__setattr__', '__setformat__', '__sizeof__', '__str__', '__sub__', '__subclasshook__', '__truediv__', '__trunc__', 'as_integer_ratio', 'conjugate', 'fromhex', 'hex', 'imag', 'is_integer', 'real']\n"
     ]
    }
   ],
   "source": [
    "yy=4.0\n",
    "print('value=',yy)\n",
    "type(yy)\n",
    "print(dir(yy))"
   ]
  },
  {
   "cell_type": "markdown",
   "metadata": {
    "slideshow": {
     "slide_type": "slide"
    }
   },
   "source": [
    "## Variable type *string*\n",
    "\n",
    "A string is the variable type that stores characters, i.e. stores text.\n",
    "\n",
    "The string is created by inserting the characters that make up the string between '*insert text here*'"
   ]
  },
  {
   "cell_type": "code",
   "execution_count": 5,
   "metadata": {
    "slideshow": {
     "slide_type": "fragment"
    }
   },
   "outputs": [
    {
     "name": "stdout",
     "output_type": "stream",
     "text": [
      "AndrewAndrewAndrewAndrew\n",
      "r\n",
      "And\n",
      "ANDREW\n"
     ]
    }
   ],
   "source": [
    "mystring='Andrew' # using '' creates the string\n",
    "type(mystring)\n",
    "print(4*mystring) # What happens when you combine strings with operators\n",
    "print(mystring[3]) # you can index individual characters from a string\n",
    "print (mystring[0:3]) # you can slice elements out of a string\n",
    "print(mystring.upper()) #  there are many functions that operate on strings e.g. upper changes all to uppercase"
   ]
  },
  {
   "cell_type": "markdown",
   "metadata": {
    "slideshow": {
     "slide_type": "slide"
    }
   },
   "source": [
    "## Variable type *list*\n",
    "\n",
    "A list is a flexible variable type that can store a list of variables (which can have mixed types) within in it. E.g. a list of numbers, a list of names, or a combination of numbers, strings and even other lists.\n",
    "\n",
    "The list is created using the syntax mylist = [element1, element2,..., last element]"
   ]
  },
  {
   "cell_type": "code",
   "execution_count": 6,
   "metadata": {
    "slideshow": {
     "slide_type": "fragment"
    }
   },
   "outputs": [
    {
     "name": "stdout",
     "output_type": "stream",
     "text": [
      "[1, 2, 3, 4.0, 'Andrew']\n",
      "<class 'list'>\n",
      "5\n",
      "1\n",
      "['__add__', '__class__', '__contains__', '__delattr__', '__delitem__', '__dir__', '__doc__', '__eq__', '__format__', '__ge__', '__getattribute__', '__getitem__', '__gt__', '__hash__', '__iadd__', '__imul__', '__init__', '__init_subclass__', '__iter__', '__le__', '__len__', '__lt__', '__mul__', '__ne__', '__new__', '__reduce__', '__reduce_ex__', '__repr__', '__reversed__', '__rmul__', '__setattr__', '__setitem__', '__sizeof__', '__str__', '__subclasshook__', 'append', 'clear', 'copy', 'count', 'extend', 'index', 'insert', 'pop', 'remove', 'reverse', 'sort']\n"
     ]
    }
   ],
   "source": [
    "mylist=[1,2,3,4.0,'Andrew']\n",
    "print(mylist)\n",
    "print(type (mylist))\n",
    "print(len(mylist)) # returns the number of elements in the list\n",
    "print(mylist[0]) # index [0] returns the first element in the list \n",
    "print(dir(mylist))"
   ]
  },
  {
   "cell_type": "markdown",
   "metadata": {},
   "source": [
    "## Variable type *tuple*\n",
    "\n",
    "We have seen that lists and strings have many common properties, such as indexing and slicing operations. They are two examples of sequence data types a third type is the *tuple*.\n",
    "A *tuple* consists of a number of values separated by commas, for instance:\n",
    "\n",
    "The tuple is created using the syntax mytuple = (element1, element2,..., last element)"
   ]
  },
  {
   "cell_type": "code",
   "execution_count": 3,
   "metadata": {},
   "outputs": [
    {
     "name": "stdout",
     "output_type": "stream",
     "text": [
      "len(first) :  3\n",
      "max(first) :  3\n",
      "min(first) :  1\n",
      "first + second : (1, 2, 3, 4, 5, 6)\n",
      "first * 3 :  (1, 2, 3, 1, 2, 3, 1, 2, 3)\n",
      "1 in first :  True\n",
      "5 not in second :  False\n"
     ]
    },
    {
     "ename": "TypeError",
     "evalue": "'tuple' object does not support item assignment",
     "output_type": "error",
     "traceback": [
      "\u001b[0;31m---------------------------------------------------------------------------\u001b[0m",
      "\u001b[0;31mTypeError\u001b[0m                                 Traceback (most recent call last)",
      "\u001b[0;32m<ipython-input-3-1553334e3547>\u001b[0m in \u001b[0;36m<module>\u001b[0;34m\u001b[0m\n\u001b[1;32m     11\u001b[0m \u001b[0mprint\u001b[0m \u001b[0;34m(\u001b[0m\u001b[0;34m\"1 in first : \"\u001b[0m\u001b[0;34m,\u001b[0m \u001b[0;36m1\u001b[0m \u001b[0;32min\u001b[0m \u001b[0mfirst\u001b[0m\u001b[0;34m)\u001b[0m\u001b[0;34m\u001b[0m\u001b[0;34m\u001b[0m\u001b[0m\n\u001b[1;32m     12\u001b[0m \u001b[0mprint\u001b[0m \u001b[0;34m(\u001b[0m\u001b[0;34m\"5 not in second : \"\u001b[0m\u001b[0;34m,\u001b[0m \u001b[0;36m5\u001b[0m \u001b[0;32mnot\u001b[0m \u001b[0;32min\u001b[0m \u001b[0msecond\u001b[0m\u001b[0;34m)\u001b[0m\u001b[0;34m\u001b[0m\u001b[0;34m\u001b[0m\u001b[0m\n\u001b[0;32m---> 13\u001b[0;31m \u001b[0mfirst\u001b[0m\u001b[0;34m[\u001b[0m\u001b[0;36m2\u001b[0m\u001b[0;34m]\u001b[0m\u001b[0;34m=\u001b[0m\u001b[0;36m5\u001b[0m \u001b[0;31m# this will create an error as you cannot change a value in a tuple\u001b[0m\u001b[0;34m\u001b[0m\u001b[0;34m\u001b[0m\u001b[0m\n\u001b[0m",
      "\u001b[0;31mTypeError\u001b[0m: 'tuple' object does not support item assignment"
     ]
    }
   ],
   "source": [
    "# tuple_test.py\n",
    "\n",
    "first = (1, 2, 3)\n",
    "second = (4, 5, 6)\n",
    "\n",
    "print (\"len(first) : \", len(first))\n",
    "print (\"max(first) : \", max(first))\n",
    "print (\"min(first) : \", min(first))\n",
    "print (\"first + second :\", first + second)\n",
    "print (\"first * 3 : \", first * 3)\n",
    "print (\"1 in first : \", 1 in first)\n",
    "print (\"5 not in second : \", 5 not in second)\n",
    "first[2]=5 # this will create an error as you cannot change a value in a tuple"
   ]
  },
  {
   "cell_type": "markdown",
   "metadata": {},
   "source": [
    "Running this test demonstrates one of the properties of tuples, that the values are immutable,which is useful if you want to store data (such as coordinates) that you want to remain fixed during the course of a program."
   ]
  },
  {
   "cell_type": "markdown",
   "metadata": {},
   "source": [
    "## Variable type *dictionary*\n",
    "\n",
    "A dictionary is basically an efficient table that maps *keys* to *values*. Unlike sequences, which are indexed by a range of numbers, dictionaries are indexed by *keys*, which can be any immutable type; strings and numbers can always be *keys*. Tuples can be used as keys if they contain only strings, numbers, or tuples. You can not use lists as keys.\n",
    "It is best to think of a *dictionary* as an unordered set of *key:value* pairs, with the requirement that the keys are unique (within one dictionary). A pair of braces creates an empty dictionary, {}. Placing a comma-separated list of key:value pairs within the braces adds initial key:value pairs to the dictionary; this is also the way dictionaries are written on output.\n",
    "\n",
    "The main operations on a dictionary are storing a value with some key and extracting the value given the key. It is also possible to delete a key:value pair with <span style=\"color:blue\">del</span>. If you store using a key that is already in use, the old value associated with that key is forgotten.\n",
    "The <span style=\"color:blue\">keys()</span> method of a dictionary object returns a list of all the keys used in the dictionary, in arbitrary order (if you want it sorted, just apply the <span style=\"color:blue\">sorted()</span> function to it). To check whether a single key is in the dictionary, use the <span style=\"color:blue\">in</span> keyword.\n"
   ]
  },
  {
   "cell_type": "code",
   "execution_count": 7,
   "metadata": {},
   "outputs": [
    {
     "name": "stdout",
     "output_type": "stream",
     "text": [
      "{'Andrew': 4351, 'Gill': 3506, 'Ian': 3483}\n",
      "4351\n",
      "{'Andrew': 4351, 'Ian': 3483, 'Tim': 3448}\n",
      "dict_keys(['Andrew', 'Ian', 'Tim'])\n",
      "['Andrew', 'Ian', 'Tim']\n",
      "True\n"
     ]
    }
   ],
   "source": [
    "# example of telephone numbers stored in a dictionary\n",
    "tel = {'Andrew': 4351, 'Gill': 3506} #creates the dictionary\n",
    "tel['Ian'] = 3483 # adds a key:value pair to the dictionary\n",
    "print (tel)\n",
    "# should return {'Gill': 3506, 'Ian': 3483, 'Andrew': 4351}\n",
    "print (tel['Andrew'])\n",
    "#should return 4351\n",
    "del (tel['Gill']) # deletes key:value pair\n",
    "tel['Tim'] = 3448\n",
    "print (tel)\n",
    "# {'Tim': 3448, 'Ian': 3483, 'Andrew': 4351}\n",
    "print(tel.keys())\n",
    "#['Tim', 'Ian', 'Andrew']\n",
    "print (sorted(tel.keys()))\n",
    "#['Andrew', 'Ian', 'Tim']\n",
    "print('Andrew' in tel)\n",
    "#True\n"
   ]
  },
  {
   "cell_type": "markdown",
   "metadata": {},
   "source": [
    "## Inputs and Outputs\n",
    "\n",
    "The simplest way to produce output (which we have encountered already) is using the <span style=\"color:blue\">print</span> function where you can pass zero or more expressions, separated by commas. This function converts the expressions you pass it to a string and writes the result to standard output as follows:"
   ]
  },
  {
   "cell_type": "markdown",
   "metadata": {},
   "source": [
    "print(\"Python should help me understand complex physics concepts,\",\"I hope!\") # prints the string to screen\n",
    "a=3.14\n",
    "b=a**2\n",
    "print(\"a=\\n\",a) #prints the string a=, followed by a new line (\\n) containing the value of the vraiable 'a'\n",
    "print(\"a={:.3f},b={:.6f}\".format(a,b))# a to 3 decimal place and b to 6 using the str.format() method\n",
    "print(\"a={:06.2f}\".format(a)) # pading forces to be 6 characters, 2 after decimal place"
   ]
  },
  {
   "cell_type": "markdown",
   "metadata": {},
   "source": [
    "To prompt the user for an input from within your code there is a python function input().\n",
    "The *input*([prompt]) function reads one line from standard input and returns it as a string"
   ]
  },
  {
   "cell_type": "code",
   "execution_count": 18,
   "metadata": {
    "cocalc": {
     "outputs": {
      "0": {
       "name": "input",
       "opts": {
        "password": false,
        "prompt": "Enter your age: "
       },
       "output_type": "stream",
       "value": "20"
      }
     }
    }
   },
   "outputs": [
    {
     "name": "stdout",
     "output_type": "stream",
     "text": [
      "Enter your age:  20You are old enough to buy alcohol:  True\n"
     ]
    }
   ],
   "source": [
    "age = float(input(\"Enter your age: \")); # input function reads in a string, the float() function converts the string to a number and assigns the value to the variable age.\n",
    "print (\"You are old enough to buy alcohol: \", age>18.0)"
   ]
  },
  {
   "cell_type": "markdown",
   "metadata": {},
   "source": [
    "## Opening and Closing Files\n",
    "Until now, you have been reading and writing to the standard input and output. Now we will see how to deal with actual data files. Python provides basic functions and methods necessary to manipulate files by default. Most of the file manipulation can be done using a **file** object.\n",
    "\n",
    "\n",
    "### The *open* Function:\n",
    "\n",
    "Before you can read or write a file, you have to open it using Python's built-in *open()* function. This function creates a file object which would be utilized to call other support methods associated with it.\n",
    "\n",
    "Here is a table of some of the more common used modes for opening a file:\n",
    "| Mode | Description |\n",
    "| --- | --- |\n",
    "|    r | Opens a file for reading only. The file pointer is placed at the beginning of the file. This is the default mode|\n",
    "|    w | Opens a file for writing only. Overwrites the file if the file exists. If the file does not exist, creates a new file for writing|\n",
    "|    a | Opens a file for appending. The file pointer is at the end of the file if the file exists. That is, the file is in the append mode. If the file does not exist, it creates a new file for writing|\n",
    "\n",
    "Once a file is opened and you have one *file* object, you can get various information related to that file. It is good practice to close the file using close() after you have finished intergating it, for example\n"
   ]
  },
  {
   "cell_type": "code",
   "execution_count": 19,
   "metadata": {},
   "outputs": [
    {
     "name": "stdout",
     "output_type": "stream",
     "text": [
      "Name of the file:  Physics.txt\n",
      "['_CHUNK_SIZE', '__class__', '__del__', '__delattr__', '__dict__', '__dir__', '__doc__', '__enter__', '__eq__', '__exit__', '__format__', '__ge__', '__getattribute__', '__getstate__', '__gt__', '__hash__', '__init__', '__init_subclass__', '__iter__', '__le__', '__lt__', '__ne__', '__new__', '__next__', '__reduce__', '__reduce_ex__', '__repr__', '__setattr__', '__sizeof__', '__str__', '__subclasshook__', '_checkClosed', '_checkReadable', '_checkSeekable', '_checkWritable', '_finalizing', 'buffer', 'close', 'closed', 'detach', 'encoding', 'errors', 'fileno', 'flush', 'isatty', 'line_buffering', 'mode', 'name', 'newlines', 'read', 'readable', 'readline', 'readlines', 'seek', 'seekable', 'tell', 'truncate', 'writable', 'write', 'writelines']\n"
     ]
    }
   ],
   "source": [
    "# Example of Opening a file\n",
    "fo = open(\"Physics.txt\", \"w\") #Opens file Physics.txt as a file object\n",
    "print (\"Name of the file: \", fo.name) # fo is an object upon which methods can act i.e. asking the name\n",
    "print(dir(fo)) #prints a list of nethods tha tcan act on fo\n",
    "\n",
    "fo.close() # Closes file"
   ]
  },
  {
   "cell_type": "markdown",
   "metadata": {},
   "source": [
    "The file object provides a set of access methods to extract or insert information. We will see how to use read() and write() methods to read and write files.\n",
    "\n",
    "### The *write()* Method:\n",
    "\n",
    "The *write()* method writes any string to an open file. It is important to note that *Python* strings can have binary data and not just text.\n",
    "\n",
    "Syntax: fileObject.write(string);\n",
    "Here passed parameter is the content to be written into the open file.\n",
    "\n",
    "Example:"
   ]
  },
  {
   "cell_type": "code",
   "execution_count": 26,
   "metadata": {},
   "outputs": [],
   "source": [
    "# Open a file\n",
    "fo = open(\"foo.txt\", \"wb\")\n",
    "fo.write( bytes(\"Python is a great language.\\nYeah its great!!\\n\", 'utf-8'))# In this environment I need to turn the string into bytes first\n",
    "# Close opend file\n",
    "fo.close()"
   ]
  },
  {
   "cell_type": "markdown",
   "metadata": {},
   "source": [
    "The above method would create foo.txt file and would write the given content in that file and finally it would close that file. If you would open this file, it would have following content\n",
    "\n",
    "Python is a great language.\n",
    "Yeah its great!!\n",
    "\n",
    "### The *read()* Method:\n",
    "\n",
    "The *read()* method reads a string from an open file.\n",
    "\n",
    "Syntax: fileObject.read([count]);\n",
    "\n",
    "Here the passed parameter is the number of bytes to be read from the opened file. This method starts reading from the beginning of the file and if count is missing then it tries to read as much as possible, may be until the end of file.\n",
    "Example:\n",
    "\n",
    "This produces the following result: ``Python is a great la''"
   ]
  },
  {
   "cell_type": "code",
   "execution_count": 1,
   "metadata": {},
   "outputs": [
    {
     "name": "stdout",
     "output_type": "stream",
     "text": [
      "Read String is :  Python is a great la\n"
     ]
    }
   ],
   "source": [
    "# Open a file\n",
    "fo = open(\"foo.txt\", \"r+\")\n",
    "filestr = fo.read(20); #you can change the count or leave empty to see what the output will be\n",
    "print (\"Read String is : \", filestr)\n",
    "# Close opend file\n",
    "fo.close()"
   ]
  },
  {
   "cell_type": "markdown",
   "metadata": {},
   "source": [
    "## Next Step\n",
    "\n",
    "Now you can move on [chapter 3](PH2150_Lecture3.ipynb) or return to the [menu](PH2150_Start_here.ipynb)"
   ]
  },
  {
   "cell_type": "code",
   "execution_count": 0,
   "metadata": {},
   "outputs": [],
   "source": []
  }
 ],
 "metadata": {
  "celltoolbar": "Slideshow",
  "kernelspec": {
   "display_name": "Python 3",
   "language": "python",
   "name": "python3"
  },
  "language_info": {
   "codemirror_mode": {
    "name": "ipython",
    "version": 3
   },
   "file_extension": ".py",
   "mimetype": "text/x-python",
   "name": "python",
   "nbconvert_exporter": "python",
   "pygments_lexer": "ipython3",
   "version": "3.7.6"
  }
 },
 "nbformat": 4,
 "nbformat_minor": 4
}
